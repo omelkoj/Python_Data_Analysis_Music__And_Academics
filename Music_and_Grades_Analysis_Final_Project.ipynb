{
  "nbformat": 4,
  "nbformat_minor": 0,
  "metadata": {
    "colab": {
      "name": "Music_and_Grades_Analysis_Final_Project.ipynb",
      "provenance": [],
      "collapsed_sections": [],
      "authorship_tag": "ABX9TyPdoUufAu7IW4Lu9lJfYHwv",
      "include_colab_link": true
    },
    "kernelspec": {
      "name": "python3",
      "display_name": "Python 3"
    },
    "language_info": {
      "name": "python"
    }
  },
  "cells": [
    {
      "cell_type": "markdown",
      "metadata": {
        "id": "view-in-github",
        "colab_type": "text"
      },
      "source": [
        "<a href=\"https://colab.research.google.com/github/omelkoj/Python_Data_Analysis_Music__And_Academics/blob/main/Music_and_Grades_Analysis_Final_Project.ipynb\" target=\"_parent\"><img src=\"https://colab.research.google.com/assets/colab-badge.svg\" alt=\"Open In Colab\"/></a>"
      ]
    },
    {
      "cell_type": "markdown",
      "source": [
        "As a piano teacher, I find the correlation between academic performance and musical participation to be very interesting. \n",
        "\n",
        "I gathered the data and created a csv from an online study at this link: https://psycnet.apa.org/fulltext/2019-34936-001.html. \n",
        "\n",
        "I will be approaching my analysis of this data as if I were presenting it to a school board in hopes of convincing them to continue finding music programs for students, and I will walk you through my thought processes accordingly."
      ],
      "metadata": {
        "id": "WOvDn24NnvtS"
      }
    },
    {
      "cell_type": "markdown",
      "source": [
        "First, I will import libraries and styling for the graphs."
      ],
      "metadata": {
        "id": "82mNlB44o3N3"
      }
    },
    {
      "cell_type": "code",
      "execution_count": 113,
      "metadata": {
        "id": "7OQKI6U1E55s"
      },
      "outputs": [],
      "source": [
        "import pandas as pd\n",
        "import matplotlib.pyplot as plt\n",
        "import matplotlib as mp\n",
        "import matplotlib as mpl\n",
        "import numpy as np\n",
        "import seaborn as sns\n",
        "from matplotlib import cm"
      ]
    },
    {
      "cell_type": "markdown",
      "source": [
        "Here, I will first import the csv file that I have created. \n",
        "\n",
        "Then, I will replace some values and fill in null values to be able to work with the data more easily, and make a new dataframe that I will use for the rest of the project."
      ],
      "metadata": {
        "id": "Eoq3arP8o6IQ"
      }
    },
    {
      "cell_type": "code",
      "source": [
        "#IMPORT CSV\n",
        "df = pd.read_csv(\"https://raw.githubusercontent.com/omelkoj/Python_Data_Analysis_Music__And_Academics/main/Revised%20Analysis%20Of%20School%20Musical%20Participation%20and%20Academic%20Exam%20Scores%20in%20Public%20Secondary%20School%20Students%20-%20Sheet1.csv\")\n",
        "print(df.values)\n",
        "\n",
        "#change values for better clarity of engagement values\n",
        "df['engagement_levels'] = df['engagement_levels'].replace([0,1,2,3],[1,2,3,4])\n",
        "\n",
        "#make new dataframe with null values filled in with 0\n",
        "df_musical_analysis = df.fillna('0')\n",
        "print(df_musical_analysis)\n",
        "\n",
        "#Choose color palette for cohesive styling: #194a94, #477ed1, #85aded\n"
      ],
      "metadata": {
        "colab": {
          "base_uri": "https://localhost:8080/"
        },
        "id": "LYzI55vPOWij",
        "outputId": "25be7d95-f537-42c6-b70c-9035d9b067dd"
      },
      "execution_count": 135,
      "outputs": [
        {
          "output_type": "stream",
          "name": "stdout",
          "text": [
            "[['English 12' 69.71 '63,131' 'no' nan nan nan]\n",
            " ['English 10' 70.87 '96,216' 'no' nan nan nan]\n",
            " ['Math 10' 67.03 '75,616' 'no' nan nan nan]\n",
            " ['Science 10' 67.23 '95,873' 'no' nan nan nan]\n",
            " ['English 12' 72.18 '11,419' 'yes' nan nan nan]\n",
            " ['English 10' 73.59 '15,391' 'yes' nan nan nan]\n",
            " ['Math 10' 70.75 '13,772' 'yes' nan nan nan]\n",
            " ['Science 10' 70.99 '15,416' 'yes' nan nan nan]\n",
            " ['English 12' 74.9 '2,728' 'vocal' nan nan nan]\n",
            " ['English 10' 77.08 '3,766' 'vocal' nan nan nan]\n",
            " ['Math 10' 72.04 '3,198' 'vocal' nan nan nan]\n",
            " ['Science 10' 73.03 '3,769' 'vocal' nan nan nan]\n",
            " ['English 12' 76.33 '5,749' 'instrumental' nan nan nan]\n",
            " ['English 10' 78.64 '7,652' 'instrumental' nan nan nan]\n",
            " ['Math 10' 77.0 '6,994' 'instrumental' nan nan nan]\n",
            " ['Science 10' 76.82 '7,665' 'instrumental' nan nan nan]\n",
            " ['English 12' nan nan 'vocal_engagement' 0.0 69.59 '63,131']\n",
            " ['English 10' nan nan 'vocal_engagement' 0.0 70.67 '96,216']\n",
            " ['Math 10' nan nan 'vocal_engagement' 0.0 66.79 '75,616']\n",
            " ['Science 10' nan nan 'vocal_engagement' 0.0 66.95 '95,873']\n",
            " ['English 12' nan nan 'vocal_engagement' 1.0 70.15 '1,796']\n",
            " ['English 10' nan nan 'vocal_engagement' 1.0 71.58 '2,669']\n",
            " ['Math 10' nan nan 'vocal_engagement' 1.0 67.32 '2,207']\n",
            " ['Science 10' nan nan 'vocal_engagement' 1.0 67.92 '2,670']\n",
            " ['English 12' nan nan 'vocal_engagement' 2.0 71.75 '726']\n",
            " ['English 10' nan nan 'vocal_engagement' 2.0 72.73 '880']\n",
            " ['Math 10' nan nan 'vocal_engagement' 2.0 68.15 '792']\n",
            " ['Science 10' nan nan 'vocal_engagement' 2.0 69.33 '883']\n",
            " ['English 12' nan nan 'vocal_engagement' 3.0 70.93 '206']\n",
            " ['English 10' nan nan 'vocal_engagement' 3.0 72.36 '217']\n",
            " ['Math 10' nan nan 'vocal_engagement' 3.0 68.38 '199']\n",
            " ['Science 10' nan nan 'vocal_engagement' 3.0 69.78 '216']\n",
            " ['English 12' nan nan 'instrumental_enagagement' 0.0 69.59 '63,131']\n",
            " ['English 10' nan nan 'instrumental_enagagement' 0.0 70.72 '96,216']\n",
            " ['Math 10' nan nan 'instrumental_enagagement' 0.0 66.98 '75,616']\n",
            " ['Science 10' nan nan 'instrumental_enagagement' 0.0 67.24 '95,873']\n",
            " ['English 12' nan nan 'instrumental_enagagement' 1.0 72.48 '1,274']\n",
            " ['English 10' nan nan 'instrumental_enagagement' 1.0 73.99 '1,728']\n",
            " ['Math 10' nan nan 'instrumental_enagagement' 1.0 71.79 '1,547']\n",
            " ['Science 10' nan nan 'instrumental_enagagement' 1.0 71.37 '1,726']\n",
            " ['English 12' nan nan 'instrumental_enagagement' 2.0 72.24 '2,852']\n",
            " ['English 10' nan nan 'instrumental_enagagement' 2.0 73.68 '3,931']\n",
            " ['Math 10' nan nan 'instrumental_enagagement' 2.0 71.75 '3,581']\n",
            " ['Science 10' nan nan 'instrumental_enagagement' 2.0 71.7 '3,938']\n",
            " ['English 12' nan nan 'instrumental_enagagement' 3.0 73.64 '1,623']\n",
            " ['English 10' nan nan 'instrumental_enagagement' 3.0 75.27 '1,993']\n",
            " ['Math 10' nan nan 'instrumental_enagagement' 3.0 73.02 '1,866']\n",
            " ['Science 10' nan nan 'instrumental_enagagement' 3.0 73.21 '2,001']]\n",
            "   school_subjects student_exam_grades student_number  \\\n",
            "0       English 12               69.71         63,131   \n",
            "1       English 10               70.87         96,216   \n",
            "2          Math 10               67.03         75,616   \n",
            "3       Science 10               67.23         95,873   \n",
            "4       English 12               72.18         11,419   \n",
            "5       English 10               73.59         15,391   \n",
            "6          Math 10               70.75         13,772   \n",
            "7       Science 10               70.99         15,416   \n",
            "8       English 12                74.9          2,728   \n",
            "9       English 10               77.08          3,766   \n",
            "10         Math 10               72.04          3,198   \n",
            "11      Science 10               73.03          3,769   \n",
            "12      English 12               76.33          5,749   \n",
            "13      English 10               78.64          7,652   \n",
            "14         Math 10                77.0          6,994   \n",
            "15      Science 10               76.82          7,665   \n",
            "16      English 12                   0              0   \n",
            "17      English 10                   0              0   \n",
            "18         Math 10                   0              0   \n",
            "19      Science 10                   0              0   \n",
            "20      English 12                   0              0   \n",
            "21      English 10                   0              0   \n",
            "22         Math 10                   0              0   \n",
            "23      Science 10                   0              0   \n",
            "24      English 12                   0              0   \n",
            "25      English 10                   0              0   \n",
            "26         Math 10                   0              0   \n",
            "27      Science 10                   0              0   \n",
            "28      English 12                   0              0   \n",
            "29      English 10                   0              0   \n",
            "30         Math 10                   0              0   \n",
            "31      Science 10                   0              0   \n",
            "32      English 12                   0              0   \n",
            "33      English 10                   0              0   \n",
            "34         Math 10                   0              0   \n",
            "35      Science 10                   0              0   \n",
            "36      English 12                   0              0   \n",
            "37      English 10                   0              0   \n",
            "38         Math 10                   0              0   \n",
            "39      Science 10                   0              0   \n",
            "40      English 12                   0              0   \n",
            "41      English 10                   0              0   \n",
            "42         Math 10                   0              0   \n",
            "43      Science 10                   0              0   \n",
            "44      English 12                   0              0   \n",
            "45      English 10                   0              0   \n",
            "46         Math 10                   0              0   \n",
            "47      Science 10                   0              0   \n",
            "\n",
            "       musical_participation engagement_levels engagement_exam_number  \\\n",
            "0                         no                 0                      0   \n",
            "1                         no                 0                      0   \n",
            "2                         no                 0                      0   \n",
            "3                         no                 0                      0   \n",
            "4                        yes                 0                      0   \n",
            "5                        yes                 0                      0   \n",
            "6                        yes                 0                      0   \n",
            "7                        yes                 0                      0   \n",
            "8                      vocal                 0                      0   \n",
            "9                      vocal                 0                      0   \n",
            "10                     vocal                 0                      0   \n",
            "11                     vocal                 0                      0   \n",
            "12              instrumental                 0                      0   \n",
            "13              instrumental                 0                      0   \n",
            "14              instrumental                 0                      0   \n",
            "15              instrumental                 0                      0   \n",
            "16          vocal_engagement               1.0                  69.59   \n",
            "17          vocal_engagement               1.0                  70.67   \n",
            "18          vocal_engagement               1.0                  66.79   \n",
            "19          vocal_engagement               1.0                  66.95   \n",
            "20          vocal_engagement               2.0                  70.15   \n",
            "21          vocal_engagement               2.0                  71.58   \n",
            "22          vocal_engagement               2.0                  67.32   \n",
            "23          vocal_engagement               2.0                  67.92   \n",
            "24          vocal_engagement               3.0                  71.75   \n",
            "25          vocal_engagement               3.0                  72.73   \n",
            "26          vocal_engagement               3.0                  68.15   \n",
            "27          vocal_engagement               3.0                  69.33   \n",
            "28          vocal_engagement               4.0                  70.93   \n",
            "29          vocal_engagement               4.0                  72.36   \n",
            "30          vocal_engagement               4.0                  68.38   \n",
            "31          vocal_engagement               4.0                  69.78   \n",
            "32  instrumental_enagagement               1.0                  69.59   \n",
            "33  instrumental_enagagement               1.0                  70.72   \n",
            "34  instrumental_enagagement               1.0                  66.98   \n",
            "35  instrumental_enagagement               1.0                  67.24   \n",
            "36  instrumental_enagagement               2.0                  72.48   \n",
            "37  instrumental_enagagement               2.0                  73.99   \n",
            "38  instrumental_enagagement               2.0                  71.79   \n",
            "39  instrumental_enagagement               2.0                  71.37   \n",
            "40  instrumental_enagagement               3.0                  72.24   \n",
            "41  instrumental_enagagement               3.0                  73.68   \n",
            "42  instrumental_enagagement               3.0                  71.75   \n",
            "43  instrumental_enagagement               3.0                   71.7   \n",
            "44  instrumental_enagagement               4.0                  73.64   \n",
            "45  instrumental_enagagement               4.0                  75.27   \n",
            "46  instrumental_enagagement               4.0                  73.02   \n",
            "47  instrumental_enagagement               4.0                  73.21   \n",
            "\n",
            "   engagement_student_number  \n",
            "0                          0  \n",
            "1                          0  \n",
            "2                          0  \n",
            "3                          0  \n",
            "4                          0  \n",
            "5                          0  \n",
            "6                          0  \n",
            "7                          0  \n",
            "8                          0  \n",
            "9                          0  \n",
            "10                         0  \n",
            "11                         0  \n",
            "12                         0  \n",
            "13                         0  \n",
            "14                         0  \n",
            "15                         0  \n",
            "16                    63,131  \n",
            "17                    96,216  \n",
            "18                    75,616  \n",
            "19                    95,873  \n",
            "20                     1,796  \n",
            "21                     2,669  \n",
            "22                     2,207  \n",
            "23                     2,670  \n",
            "24                       726  \n",
            "25                       880  \n",
            "26                       792  \n",
            "27                       883  \n",
            "28                       206  \n",
            "29                       217  \n",
            "30                       199  \n",
            "31                       216  \n",
            "32                    63,131  \n",
            "33                    96,216  \n",
            "34                    75,616  \n",
            "35                    95,873  \n",
            "36                     1,274  \n",
            "37                     1,728  \n",
            "38                     1,547  \n",
            "39                     1,726  \n",
            "40                     2,852  \n",
            "41                     3,931  \n",
            "42                     3,581  \n",
            "43                     3,938  \n",
            "44                     1,623  \n",
            "45                     1,993  \n",
            "46                     1,866  \n",
            "47                     2,001  \n"
          ]
        }
      ]
    },
    {
      "cell_type": "markdown",
      "source": [
        "I will also change some columns to the int datatype, so that I can do math with them."
      ],
      "metadata": {
        "id": "6Z0HzZyzplv1"
      }
    },
    {
      "cell_type": "code",
      "source": [
        "#Change necessary columns to int datatype\n",
        "df_musical_analysis = df_musical_analysis.astype({'engagement_levels': int})\n",
        "df_musical_analysis = df_musical_analysis.astype({'engagement_exam_number': int})\n",
        "df_musical_analysis = df_musical_analysis.astype({'student_exam_grades': int})\n",
        "df_musical_analysis.dtypes"
      ],
      "metadata": {
        "colab": {
          "base_uri": "https://localhost:8080/"
        },
        "id": "VgyCH0z0pe9R",
        "outputId": "5b25a2f4-1566-421e-fb9c-e92be04d757f"
      },
      "execution_count": 136,
      "outputs": [
        {
          "output_type": "execute_result",
          "data": {
            "text/plain": [
              "school_subjects              object\n",
              "student_exam_grades           int64\n",
              "student_number               object\n",
              "musical_participation        object\n",
              "engagement_levels             int64\n",
              "engagement_exam_number        int64\n",
              "engagement_student_number    object\n",
              "dtype: object"
            ]
          },
          "metadata": {},
          "execution_count": 136
        }
      ]
    },
    {
      "cell_type": "markdown",
      "source": [
        "Since the study didn't have much extra data, I didn't have to clean my data very much. However, I will continue cleaning and reorganizing the data wherever necessary as I work on plotting the graphs.\n",
        "\n",
        "I will begin with some statistical analysis to get to know the data a bit better."
      ],
      "metadata": {
        "id": "AaKM0Rggqbom"
      }
    },
    {
      "cell_type": "code",
      "source": [
        "#Find average of grades per participation category\n",
        "#AVERAGE OF STUDENT EXAM GRADES THAT HAVE NO MUSICAL PARTICIPATION\n",
        "df_musical_analysis_no_musical_participation = df_musical_analysis[(df_musical_analysis['musical_participation'] == 'no')]\n",
        "df_musical_analysis_grades_no_participation = (df_musical_analysis_no_musical_participation['student_exam_grades']).mean()\n",
        "print(df_musical_analysis_grades_no_participation)\n",
        "\n",
        "#AVERAGE OF STUDENT EXAM GRADES THAT HAVE VOCAL MUSICAL PARTICIPATION\n",
        "df_musical_analysis_vocal_musical_participation = df_musical_analysis[(df_musical_analysis['musical_participation'] == 'vocal')]\n",
        "df_musical_analysis_grades_vocal_participation = (df_musical_analysis_vocal_musical_participation['student_exam_grades']).mean()\n",
        "print(df_musical_analysis_grades_vocal_participation)\n",
        "\n",
        "#AVERAGE OF STUDENT EXAM GRADES THAT HAVE INSTRUMENTAL MUSICAL PARTICIPATION\n",
        "df_musical_analysis_instrumental_musical_participation = df_musical_analysis[(df_musical_analysis['musical_participation'] == 'instrumental')]\n",
        "df_musical_analysis_grades_instrumental_participation = (df_musical_analysis_instrumental_musical_participation['student_exam_grades']).mean()\n",
        "print(df_musical_analysis_grades_instrumental_participation)\n",
        "\n",
        "#AVERAGE OF STUDENT EXAM GRADES THAT HAVE ANY MUSICAL PARTICIPATION - make a function here?\n",
        "df_musical_analysis_any_musical_participation = ((df_musical_analysis_grades_vocal_participation + df_musical_analysis_grades_instrumental_participation) / 2)\n",
        "print(df_musical_analysis_any_musical_participation) "
      ],
      "metadata": {
        "colab": {
          "base_uri": "https://localhost:8080/"
        },
        "id": "De17LaR9I2sP",
        "outputId": "29da59c5-81d2-4418-ece5-94b9f5b25320"
      },
      "execution_count": 137,
      "outputs": [
        {
          "output_type": "stream",
          "name": "stdout",
          "text": [
            "68.25\n",
            "74.0\n",
            "76.75\n",
            "75.375\n"
          ]
        }
      ]
    },
    {
      "cell_type": "code",
      "source": [
        "print(df.info())\n",
        "\n",
        "#finding levels/unique values of categorical values\n",
        "school_Series = df['school_subjects']\n",
        "school_subjects = school_Series.unique()\n",
        "print(school_subjects)\n",
        "\n",
        "number_Series = df['student_number']\n",
        "student_number = number_Series.unique()\n",
        "print(student_number)\n",
        "\n",
        "participation_Series = df['musical_participation']\n",
        "school_participation = participation_Series.unique()\n",
        "print(school_participation)\n",
        "\n",
        "engagement_Series = df['engagement_student_number']\n",
        "student_engagement = engagement_Series.unique()\n",
        "print(student_engagement)\n",
        "\n",
        "#get values\n",
        "print(df.values)\n",
        "\n",
        "#get columns\n",
        "print(df.columns)\n",
        "\n",
        "#get index\n",
        "print(df.index)\n"
      ],
      "metadata": {
        "colab": {
          "base_uri": "https://localhost:8080/"
        },
        "id": "qug-jQi_Jrw0",
        "outputId": "946e576d-1b82-4b8f-a562-1dad6f20f6d6"
      },
      "execution_count": 139,
      "outputs": [
        {
          "output_type": "stream",
          "name": "stdout",
          "text": [
            "<class 'pandas.core.frame.DataFrame'>\n",
            "RangeIndex: 48 entries, 0 to 47\n",
            "Data columns (total 7 columns):\n",
            " #   Column                     Non-Null Count  Dtype  \n",
            "---  ------                     --------------  -----  \n",
            " 0   school_subjects            48 non-null     object \n",
            " 1   student_exam_grades        16 non-null     float64\n",
            " 2   student_number             16 non-null     object \n",
            " 3   musical_participation      48 non-null     object \n",
            " 4   engagement_levels          32 non-null     float64\n",
            " 5   engagement_exam_number     32 non-null     float64\n",
            " 6   engagement_student_number  32 non-null     object \n",
            "dtypes: float64(3), object(4)\n",
            "memory usage: 2.8+ KB\n",
            "None\n",
            "['English 12' 'English 10' 'Math 10' 'Science 10']\n",
            "['63,131' '96,216' '75,616' '95,873' '11,419' '15,391' '13,772' '15,416'\n",
            " '2,728' '3,766' '3,198' '3,769' '5,749' '7,652' '6,994' '7,665' nan]\n",
            "['no' 'yes' 'vocal' 'instrumental' 'vocal_engagement'\n",
            " 'instrumental_enagagement']\n",
            "[nan '63,131' '96,216' '75,616' '95,873' '1,796' '2,669' '2,207' '2,670'\n",
            " '726' '880' '792' '883' '206' '217' '199' '216' '1,274' '1,728' '1,547'\n",
            " '1,726' '2,852' '3,931' '3,581' '3,938' '1,623' '1,993' '1,866' '2,001']\n",
            "[['English 12' 69.71 '63,131' 'no' nan nan nan]\n",
            " ['English 10' 70.87 '96,216' 'no' nan nan nan]\n",
            " ['Math 10' 67.03 '75,616' 'no' nan nan nan]\n",
            " ['Science 10' 67.23 '95,873' 'no' nan nan nan]\n",
            " ['English 12' 72.18 '11,419' 'yes' nan nan nan]\n",
            " ['English 10' 73.59 '15,391' 'yes' nan nan nan]\n",
            " ['Math 10' 70.75 '13,772' 'yes' nan nan nan]\n",
            " ['Science 10' 70.99 '15,416' 'yes' nan nan nan]\n",
            " ['English 12' 74.9 '2,728' 'vocal' nan nan nan]\n",
            " ['English 10' 77.08 '3,766' 'vocal' nan nan nan]\n",
            " ['Math 10' 72.04 '3,198' 'vocal' nan nan nan]\n",
            " ['Science 10' 73.03 '3,769' 'vocal' nan nan nan]\n",
            " ['English 12' 76.33 '5,749' 'instrumental' nan nan nan]\n",
            " ['English 10' 78.64 '7,652' 'instrumental' nan nan nan]\n",
            " ['Math 10' 77.0 '6,994' 'instrumental' nan nan nan]\n",
            " ['Science 10' 76.82 '7,665' 'instrumental' nan nan nan]\n",
            " ['English 12' nan nan 'vocal_engagement' 1.0 69.59 '63,131']\n",
            " ['English 10' nan nan 'vocal_engagement' 1.0 70.67 '96,216']\n",
            " ['Math 10' nan nan 'vocal_engagement' 1.0 66.79 '75,616']\n",
            " ['Science 10' nan nan 'vocal_engagement' 1.0 66.95 '95,873']\n",
            " ['English 12' nan nan 'vocal_engagement' 2.0 70.15 '1,796']\n",
            " ['English 10' nan nan 'vocal_engagement' 2.0 71.58 '2,669']\n",
            " ['Math 10' nan nan 'vocal_engagement' 2.0 67.32 '2,207']\n",
            " ['Science 10' nan nan 'vocal_engagement' 2.0 67.92 '2,670']\n",
            " ['English 12' nan nan 'vocal_engagement' 3.0 71.75 '726']\n",
            " ['English 10' nan nan 'vocal_engagement' 3.0 72.73 '880']\n",
            " ['Math 10' nan nan 'vocal_engagement' 3.0 68.15 '792']\n",
            " ['Science 10' nan nan 'vocal_engagement' 3.0 69.33 '883']\n",
            " ['English 12' nan nan 'vocal_engagement' 4.0 70.93 '206']\n",
            " ['English 10' nan nan 'vocal_engagement' 4.0 72.36 '217']\n",
            " ['Math 10' nan nan 'vocal_engagement' 4.0 68.38 '199']\n",
            " ['Science 10' nan nan 'vocal_engagement' 4.0 69.78 '216']\n",
            " ['English 12' nan nan 'instrumental_enagagement' 1.0 69.59 '63,131']\n",
            " ['English 10' nan nan 'instrumental_enagagement' 1.0 70.72 '96,216']\n",
            " ['Math 10' nan nan 'instrumental_enagagement' 1.0 66.98 '75,616']\n",
            " ['Science 10' nan nan 'instrumental_enagagement' 1.0 67.24 '95,873']\n",
            " ['English 12' nan nan 'instrumental_enagagement' 2.0 72.48 '1,274']\n",
            " ['English 10' nan nan 'instrumental_enagagement' 2.0 73.99 '1,728']\n",
            " ['Math 10' nan nan 'instrumental_enagagement' 2.0 71.79 '1,547']\n",
            " ['Science 10' nan nan 'instrumental_enagagement' 2.0 71.37 '1,726']\n",
            " ['English 12' nan nan 'instrumental_enagagement' 3.0 72.24 '2,852']\n",
            " ['English 10' nan nan 'instrumental_enagagement' 3.0 73.68 '3,931']\n",
            " ['Math 10' nan nan 'instrumental_enagagement' 3.0 71.75 '3,581']\n",
            " ['Science 10' nan nan 'instrumental_enagagement' 3.0 71.7 '3,938']\n",
            " ['English 12' nan nan 'instrumental_enagagement' 4.0 73.64 '1,623']\n",
            " ['English 10' nan nan 'instrumental_enagagement' 4.0 75.27 '1,993']\n",
            " ['Math 10' nan nan 'instrumental_enagagement' 4.0 73.02 '1,866']\n",
            " ['Science 10' nan nan 'instrumental_enagagement' 4.0 73.21 '2,001']]\n",
            "Index(['school_subjects', 'student_exam_grades', 'student_number',\n",
            "       'musical_participation', 'engagement_levels', 'engagement_exam_number',\n",
            "       'engagement_student_number'],\n",
            "      dtype='object')\n",
            "RangeIndex(start=0, stop=48, step=1)\n"
          ]
        }
      ]
    },
    {
      "cell_type": "markdown",
      "source": [
        "Here, I continue to explore the data in a broad sense by creating a histogram for two sets of data - the student grades based on participation, and based on engagement."
      ],
      "metadata": {
        "id": "TlXpqbzOxNjt"
      }
    },
    {
      "cell_type": "code",
      "source": [
        "#continuous variable histograms for two categories of student grades I will be using the most.\n",
        "\n",
        "ax = sns.histplot(df['student_exam_grades'], kde=False, color='#194a94')\n",
        "plt.axvline(x=np.mean(df['student_exam_grades']), color='red', label='mean_grades')\n",
        "plt.axvline(x=np.median(df['student_exam_grades']), color='orange', label='median_grades')\n",
        "plt.legend(loc='upper right')\n",
        "\n",
        "ax = sns.histplot(df['engagement_exam_number'], kde=False, color='#85aded')\n",
        "plt.axvline(x=np.mean(df['engagement_exam_number']), color='red', label='mean_engagement')\n",
        "plt.axvline(x=np.median(df['engagement_exam_number']), color='orange', label='median_engagement')\n",
        "plt.title(\"Histogram of Student Exam Grades Based On Engagement And Participation\")\n",
        "plt.legend(loc='upper right')"
      ],
      "metadata": {
        "colab": {
          "base_uri": "https://localhost:8080/",
          "height": 279
        },
        "id": "U_I9_BEyasRj",
        "outputId": "3d33fa3b-b54c-4064-b3e1-96d5b7badb07"
      },
      "execution_count": 140,
      "outputs": [
        {
          "output_type": "execute_result",
          "data": {
            "text/plain": [
              "<matplotlib.legend.Legend at 0x7f6591f96dd0>"
            ]
          },
          "metadata": {},
          "execution_count": 140
        },
        {
          "output_type": "display_data",
          "data": {
            "text/plain": [
              "<Figure size 540x252 with 1 Axes>"
            ],
            "image/png": "[encoded data removed]"
          },
          "metadata": {
            "needs_background": "light"
          }
        }
      ]
    },
    {
      "cell_type": "markdown",
      "source": [
        "This first bar graph is meant to broadly demonstrate the clear effect that musical participation has on academic performance."
      ],
      "metadata": {
        "id": "YTZQdFvAq9FF"
      }
    },
    {
      "cell_type": "code",
      "source": [
        "#CREATE NEW DATAFRAMES IN ORDER TO SET CONDITIONALS\n",
        "df_no = df[df['musical_participation'] == \"no\"]\n",
        "df_participation = df[df['musical_participation'] == \"yes\"]\n",
        "\n",
        "\n",
        "#using the new dataframes to filter the values I need in the appropriate columns\n",
        "x = np.arange(len(df_no[\"student_exam_grades\"]))\n",
        "y1 = df_no[\"student_exam_grades\"]\n",
        "y2 = df_participation[\"student_exam_grades\"]\n",
        "width = 0.37\n",
        "\n",
        "#STILL NEEDS A TITLE\n",
        "plt.bar(x, y1, width, color='#194a94')\n",
        "plt.bar(x+0.37, y2, width, color='#477ed1')\n",
        "plt.xticks(x, ['English 12', 'English 10', 'Math 10', 'Science 10'])\n",
        "plt.xlabel(\"Subjects\")\n",
        "plt.ylabel(\"Exam Scores Per Subject\")\n",
        "plt.title(\"Musical Participation Vs. None\")\n",
        "plt.legend([\"Any Form of Musical Participation\", \"Instrumental Musical Participation\"], loc=\"upper right\")\n",
        "plt.show()"
      ],
      "metadata": {
        "colab": {
          "base_uri": "https://localhost:8080/",
          "height": 261
        },
        "id": "3_ec3yTNziwk",
        "outputId": "7b674f00-8e2f-4829-a78a-320496220321"
      },
      "execution_count": 141,
      "outputs": [
        {
          "output_type": "display_data",
          "data": {
            "text/plain": [
              "<Figure size 540x252 with 1 Axes>"
            ],
            "image/png": "[encoded data removed]"
          },
          "metadata": {
            "needs_background": "light"
          }
        }
      ]
    },
    {
      "cell_type": "markdown",
      "source": [
        "This graph more clearly illustrates the differences between the types of musical participation, and the effects each of them individually has on grades."
      ],
      "metadata": {
        "id": "H4X_2QDZtJ9m"
      }
    },
    {
      "cell_type": "code",
      "source": [
        "#CREATE NEW DATAFRAMES IN ORDER TO SET CONDITIONALS\n",
        "df_no = df[df['musical_participation'] == \"no\"]\n",
        "df_vocal = df[df['musical_participation'] == \"vocal\"]\n",
        "df_instrumental = df[df['musical_participation'] == \"instrumental\"]\n",
        "\n",
        "\n",
        "#this graph is meant to show how different methods of musical engagement, vs. no musical engagement compare to exam scores in each subject.\n",
        "#using the new dataframes to filter the values I need in the appropriate columns\n",
        "x = np.arange(len(df_no[\"student_exam_grades\"]))\n",
        "y1 = df_no[\"student_exam_grades\"]\n",
        "y2 = df_vocal[\"student_exam_grades\"]\n",
        "y3 = df_instrumental[\"student_exam_grades\"]\n",
        "width = 0.25\n",
        "\n",
        "# plot data in grouped manner of bar type\n",
        "plt.bar(x-0.25, y1, width, color='#194a94')\n",
        "plt.bar(x, y2, width, color='#477ed1')\n",
        "plt.bar(x+0.25, y3, width, color='#85aded')\n",
        "plt.xticks(x, ['English 12', 'English 10', 'Math 10', 'Science 10'])\n",
        "plt.xlabel(\"Subjects\")\n",
        "plt.ylabel(\"Exam Scores Per Subject\")\n",
        "plt.title(\"Differences in Academic Performance Depending on Musical Participation\")\n",
        "plt.legend([\"No Musical Participation\", \"Vocal Musical Participation\", \"Instrumental Musical Participation\"], loc=\"lower right\")\n",
        "plt.subplots_adjust(top=1.2)\n",
        "plt.show()"
      ],
      "metadata": {
        "colab": {
          "base_uri": "https://localhost:8080/",
          "height": 261
        },
        "id": "JSS3JD15mkPj",
        "outputId": "3da00614-385a-4895-a861-5fcd6da0af7d"
      },
      "execution_count": 142,
      "outputs": [
        {
          "output_type": "display_data",
          "data": {
            "text/plain": [
              "<Figure size 540x252 with 1 Axes>"
            ],
            "image/png": "[encoded data removed]"
          },
          "metadata": {
            "needs_background": "light"
          }
        }
      ]
    },
    {
      "cell_type": "markdown",
      "source": [
        "In this graph, I was curious to see which subject was most heavily influenced by musical participation, so I created a function to help me calculate the percentage of difference between exam scores with musical participation and those without.\n",
        "\n",
        "Interestingly enough, seems like English 12 and English 10 were almost a tie for the winner!"
      ],
      "metadata": {
        "id": "oa-NKhJP7WI8"
      }
    },
    {
      "cell_type": "code",
      "source": [
        "#function to calculate percentages between grades per subject to see how much increase there is depending on participation\n",
        "\n",
        "english_12_none = df_musical_analysis[(df_musical_analysis['musical_participation'] == 'no') & (df_musical_analysis['school_subjects'] == 'English 12')]\n",
        "english_10_none = df_musical_analysis[(df_musical_analysis['musical_participation'] == 'no') & (df_musical_analysis['school_subjects'] == 'English 10')]\n",
        "math_10_none = df_musical_analysis[(df_musical_analysis['musical_participation'] == 'no') & (df_musical_analysis['school_subjects'] == 'Math 10')]\n",
        "science_10_none = df_musical_analysis[(df_musical_analysis['musical_participation'] == 'no') & (df_musical_analysis['school_subjects'] == 'Science 10')]\n",
        "\n",
        "english_12 = df_musical_analysis[(df_musical_analysis['musical_participation'] == 'yes') & (df_musical_analysis['school_subjects'] == 'English 12')]\n",
        "english_10 = df_musical_analysis[(df_musical_analysis['musical_participation'] == 'yes') & (df_musical_analysis['school_subjects'] == 'English 10')]\n",
        "math_10 = df_musical_analysis[(df_musical_analysis['musical_participation'] == 'yes') & (df_musical_analysis['school_subjects'] == 'Math 10')]\n",
        "science_10 = df_musical_analysis[(df_musical_analysis['musical_participation'] == 'yes') & (df_musical_analysis['school_subjects'] == 'Science 10')]\n",
        "\n",
        "value_a = (english_12['student_exam_grades'].values)\n",
        "value_c = (english_10['student_exam_grades'].values)\n",
        "value_e = (math_10['student_exam_grades'].values)\n",
        "value_g = (science_10['student_exam_grades'].values)\n",
        "\n",
        "value_b = (english_12_none['student_exam_grades'].values)\n",
        "value_d = (english_10_none['student_exam_grades'].values)\n",
        "value_f = (math_10_none['student_exam_grades'].values)\n",
        "value_h = (science_10_none['student_exam_grades'].values)\n",
        "\n",
        "\n",
        "my_dict = {\"Percentages\":[]}\n",
        "\n",
        "def grade_difference(grade1, grade2):\n",
        "  percentage = ((grade1 - grade2) / (grade1) * 100)\n",
        "  print(percentage)\n",
        "  my_dict[\"Percentages\"] += [percentage]\n",
        "\n",
        "#English 12\n",
        "percentage_1 = (grade_difference(value_a, value_b))\n",
        "#English 10\n",
        "percentage_2 = (grade_difference(value_c, value_d))\n",
        "#Math 10\n",
        "percentage_2 = (grade_difference(value_e, value_f))\n",
        "#Science 10\n",
        "percentage_2 = (grade_difference(value_g, value_h))\n",
        "\n",
        "print(my_dict)\n",
        "#print(grade_difference((english_12_percentage_two['student_exam_grades']), (english_12_percentage_one['student_exam_grades'])))\n",
        "\n",
        "plt.rcParams[\"figure.figsize\"] = [7.50, 3.50]\n",
        "plt.rcParams[\"figure.autolayout\"] = True\n",
        "\n",
        "x_1 = [4.16666667]\n",
        "x_2 = [4.10958904]\n",
        "x_3 = [4.28571429]\n",
        "x_4 = [4.28571429]\n",
        "y_1 = [1]\n",
        "y_2 = [2]\n",
        "y_3 = [3]\n",
        "y_4 = [4]\n",
        "\n",
        "b1 = plt.barh(y_1, x_1, color=\"#b1cefc\")\n",
        "b2 = plt.barh(y_2, x_2, color=\"#85aded\")\n",
        "b3 = plt.barh(y_3, x_3, color=\"#477ed1\")\n",
        "b4 = plt.barh(y_4, x_4, color=\"#194a94\")\n",
        "\n",
        "plt.legend([b1, b2, b3, b4], [\"Science 10\", \"Math 10\", \"English 10\", \"English 12\"], title=\"Percentage of Difference in Musical Participation Influence on Core Subjects\", loc=\"upper right\")\n",
        "\n",
        "plt.show()"
      ],
      "metadata": {
        "colab": {
          "base_uri": "https://localhost:8080/",
          "height": 350
        },
        "id": "MaYNPp0ie_f7",
        "outputId": "fd6e901a-14c0-409a-9c94-25da13923a39"
      },
      "execution_count": 143,
      "outputs": [
        {
          "output_type": "stream",
          "name": "stdout",
          "text": [
            "[4.16666667]\n",
            "[4.10958904]\n",
            "[4.28571429]\n",
            "[4.28571429]\n",
            "{'Percentages': [array([4.16666667]), array([4.10958904]), array([4.28571429]), array([4.28571429])]}\n"
          ]
        },
        {
          "output_type": "display_data",
          "data": {
            "text/plain": [
              "<Figure size 540x252 with 1 Axes>"
            ],
            "image/png": "[encoded data removed]"
          },
          "metadata": {
            "needs_background": "light"
          }
        }
      ]
    },
    {
      "cell_type": "markdown",
      "source": [
        "The next two graphs are quite interesting to see. I wanted to see the relationship between the engagement levels and the engagement exam numbers, and although there is an upward trend based on a higher engagement level, I did think it would be slightly more dramatic.\n",
        "\n",
        "I think the important takeaway here is that musical participation is the most important thing, and if a student can't spend a whole lot of time participating, they can still receive lots of benefits from it."
      ],
      "metadata": {
        "id": "48RaUksQyb8s"
      }
    },
    {
      "cell_type": "code",
      "source": [
        "#Change necessary columns to int datatype\n",
        "df_musical_analysis = df_musical_analysis.astype({'engagement_levels': int})\n",
        "df_musical_analysis = df_musical_analysis.astype({'engagement_exam_number': int})\n",
        "df_musical_analysis.dtypes\n",
        "\n",
        "#Make sure that I grab only the applicable values and not the null values I replaced earlier\n",
        "df_musical_analysis_engagement = df_musical_analysis[df_musical_analysis['engagement_levels'] > 0]\n",
        "#print(df_musical_analysis_engagement)\n",
        "df_musical_analysis_exams = df_musical_analysis[df_musical_analysis['engagement_exam_number'] > 0]\n",
        "#print(df_musical_analysis_exams)\n",
        "\n",
        "\n",
        "plt.plot(df_musical_analysis_engagement['engagement_levels'], df_musical_analysis_exams['engagement_exam_number'], color='#194a94')\n",
        "plt.title('Musical Engagement Level', fontsize=14)\n",
        "plt.xlabel('Engagement Level', fontsize=14)\n",
        "plt.ylabel('Exam Score', fontsize=14)\n",
        "plt.show()"
      ],
      "metadata": {
        "colab": {
          "base_uri": "https://localhost:8080/",
          "height": 261
        },
        "id": "Doy3MvHzavOl",
        "outputId": "cb8b04ef-371b-4df0-9e83-b9e7b22021b4"
      },
      "execution_count": 147,
      "outputs": [
        {
          "output_type": "display_data",
          "data": {
            "text/plain": [
              "<Figure size 540x252 with 1 Axes>"
            ],
            "image/png": "[encoded data removed]"
          },
          "metadata": {
            "needs_background": "light"
          }
        }
      ]
    },
    {
      "cell_type": "code",
      "source": [
        "#price = df_musical_analysis_engagement\n",
        "#sales_per_day = df_musical_analysis_exams\n",
        "\n",
        "plt.scatter(df_musical_analysis_engagement['engagement_levels'], df_musical_analysis_exams['engagement_exam_number'])\n",
        "plt.title('Musical Engagement Level', fontsize=14)\n",
        "plt.xlabel('Engagement Level', fontsize=14)\n",
        "plt.ylabel('Exam Score', fontsize=14)\n",
        "plt.show()"
      ],
      "metadata": {
        "colab": {
          "base_uri": "https://localhost:8080/",
          "height": 261
        },
        "id": "AoprjmzK8vNI",
        "outputId": "c1347da2-fdcb-4a9b-c02c-030f3d9f332d"
      },
      "execution_count": 146,
      "outputs": [
        {
          "output_type": "display_data",
          "data": {
            "text/plain": [
              "<Figure size 540x252 with 1 Axes>"
            ],
            "image/png": "[encoded data removed]"
          },
          "metadata": {
            "needs_background": "light"
          }
        }
      ]
    },
    {
      "cell_type": "markdown",
      "source": [
        "Thank you so much for taking the time to view my project, and I hope I was able to prove my hypothesis of music education being extremely beneficial in the classroom!"
      ],
      "metadata": {
        "id": "0BDJz6LSDFRQ"
      }
    }
  ]
}